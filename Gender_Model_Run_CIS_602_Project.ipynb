{
  "nbformat": 4,
  "nbformat_minor": 0,
  "metadata": {
    "accelerator": "GPU",
    "colab": {
      "name": "Gender Model Run CIS 602 Project.ipynb",
      "provenance": [],
      "collapsed_sections": [
        "CNq6aYCMZ5Sd",
        "3ttRdnrocDc6",
        "nfOzbmCPZiTi",
        "kG2g6baCcN9w",
        "U38dB4zMcUZ4",
        "EA9QithPcZ7Y"
      ]
    },
    "kernelspec": {
      "display_name": "Python 3",
      "name": "python3"
    },
    "language_info": {
      "name": "python"
    }
  },
  "cells": [
    {
      "cell_type": "code",
      "metadata": {
        "id": "u-knzBG1HhGx"
      },
      "source": [
        "from tensorflow.keras.preprocessing.image import ImageDataGenerator\n",
        "from tensorflow.keras.callbacks import ModelCheckpoint, EarlyStopping\n",
        "from tensorflow.keras.applications import MobileNetV2\n",
        "from tensorflow.keras.layers import AveragePooling2D\n",
        "from tensorflow.keras.layers import Dropout\n",
        "from tensorflow.keras.layers import Flatten\n",
        "from tensorflow.keras.layers import Dense\n",
        "from tensorflow.keras.layers import Input\n",
        "from tensorflow.keras.models import Model\n",
        "from tensorflow.keras.optimizers import Adam\n",
        "from tensorflow.keras.applications.mobilenet_v2 import preprocess_input\n",
        "from tensorflow.keras.preprocessing.image import img_to_array\n",
        "from tensorflow.keras.preprocessing.image import load_img\n",
        "from sklearn.preprocessing import LabelBinarizer\n",
        "from sklearn.model_selection import train_test_split\n",
        "from imutils import paths\n",
        "import matplotlib.pyplot as plt\n",
        "import numpy as np\n",
        "from tensorflow.keras.models import load_model\n",
        "import os\n",
        "from tensorflow.keras.utils import to_categorical"
      ],
      "execution_count": null,
      "outputs": []
    },
    {
      "cell_type": "markdown",
      "metadata": {
        "id": "CNq6aYCMZ5Sd"
      },
      "source": [
        "# Drive mounting and data Loading"
      ]
    },
    {
      "cell_type": "code",
      "metadata": {
        "colab": {
          "base_uri": "https://localhost:8080/"
        },
        "id": "S7aqcZUh6nwW",
        "outputId": "569a079b-d110-4953-91c9-277a91dc1709"
      },
      "source": [
        "from google.colab import drive\n",
        "drive.mount('/content/gdrive')"
      ],
      "execution_count": null,
      "outputs": [
        {
          "output_type": "stream",
          "text": [
            "Drive already mounted at /content/gdrive; to attempt to forcibly remount, call drive.mount(\"/content/gdrive\", force_remount=True).\n"
          ],
          "name": "stdout"
        }
      ]
    },
    {
      "cell_type": "code",
      "metadata": {
        "id": "-fEKivFqGy7r",
        "colab": {
          "base_uri": "https://localhost:8080/"
        },
        "outputId": "c9949bef-c4d4-456c-f76d-6b989fe209f7"
      },
      "source": [
        "# !ln -s /content/gdrive/My\\ Drive/Colab\\ Notebooks/CIS\\ 602 /project\n",
        "# !ls /project/UTKFace\n",
        "\n",
        "!ln -s /content/gdrive/My\\ Drive/Computer_Vision/CIS\\ 602/UTKFace"
      ],
      "execution_count": null,
      "outputs": [
        {
          "output_type": "stream",
          "text": [
            "ln: failed to create symbolic link './UTKFace': File exists\n"
          ],
          "name": "stdout"
        }
      ]
    },
    {
      "cell_type": "code",
      "metadata": {
        "colab": {
          "base_uri": "https://localhost:8080/"
        },
        "id": "HsX4WeQVMFXB",
        "outputId": "ee570c12-7278-48d6-bb75-f5c12bea8cac"
      },
      "source": [
        "!ls UTKFace/"
      ],
      "execution_count": null,
      "outputs": [
        {
          "output_type": "stream",
          "text": [
            "part1  part1.zip  part2  part2.zip  part3  part3.zip  part4  part4.zip\n"
          ],
          "name": "stdout"
        }
      ]
    },
    {
      "cell_type": "code",
      "metadata": {
        "id": "c-bevF2Qb1nX",
        "colab": {
          "base_uri": "https://localhost:8080/"
        },
        "collapsed": true,
        "outputId": "2239def2-202d-4d30-c1b6-44323a5511b8"
      },
      "source": [
        "# !unzip \"/project/UTKFace/part1.zip\" -d \"/content\"\n",
        "# !unzip \"/project/UTKFace/part2.zip\" -d \"/content\"\n",
        "# !unzip \"/project/UTKFace/part3.zip\" -d \"/content\"\n",
        "# !unzip \"/project/UTKFace/part4.zip\" -d \"/content\"\n",
        "\n",
        "!unzip \"UTKFace/part1.zip\" -d \"/content\"\n",
        "!unzip \"UTKFace/part2.zip\" -d \"/content\"\n",
        "!unzip \"UTKFace/part3.zip\" -d \"/content\"\n",
        "!unzip \"UTKFace/part4.zip\" -d \"/content\""
      ],
      "execution_count": null,
      "outputs": [
        {
          "output_type": "stream",
          "text": [
            "Archive:  UTKFace/part1.zip\n",
            "replace /content/part1/10_0_0_20161220222308131.jpg.chip.jpg? [y]es, [n]o, [A]ll, [N]one, [r]ename: N\n",
            "Archive:  UTKFace/part2.zip\n",
            "replace /content/part2/29_0_4_20170104200952009.jpg.chip.jpg? [y]es, [n]o, [A]ll, [N]one, [r]ename: N\n",
            "Archive:  UTKFace/part3.zip\n",
            "replace /content/part3/20_1_2_20170116163800040.jpg.chip.jpg? [y]es, [n]o, [A]ll, [N]one, [r]ename: N\n",
            "Archive:  UTKFace/part4.zip\n",
            "replace /content/part4/100_0_0_20170112213500903.jpg.chip.jpg? [y]es, [n]o, [A]ll, [N]one, [r]ename: N\n"
          ],
          "name": "stdout"
        }
      ]
    },
    {
      "cell_type": "markdown",
      "metadata": {
        "id": "ejGGJfHbaDFh"
      },
      "source": [
        "# Method defination for data transformation, splitting and model training."
      ]
    },
    {
      "cell_type": "code",
      "metadata": {
        "id": "CY3wRh-Kib8w"
      },
      "source": [
        "def data_load_and_model_fitting(model, data_paths, label):\n",
        "  data = []\n",
        "  labels = []\n",
        "  print('Loading Images...')\n",
        "  i = 0\n",
        "  # loop over the image paths\n",
        "  for data_path in data_paths:\n",
        "    for images in os.listdir(data_path):\n",
        "      i+=1\n",
        "      image_name = os.path.split(images)[1]\n",
        "      image_name = os.path.splitext(image_name)[0]\n",
        "      image_parts = image_name.split('_')\n",
        "      if len(image_parts) == 4:\n",
        "        image = load_img(data_path+images, target_size=(198, 198))\n",
        "        image = img_to_array(image)\n",
        "        image = preprocess_input(image)\n",
        "        # update the data and labels lists, respectively\n",
        "        data.append(image)\n",
        "        if 'g' == label:\n",
        "          labels.append(image_parts[1])\n",
        "        elif 'e' == label:\n",
        "          labels.append(image_parts[2])\n",
        "        else:\n",
        "          raise Exception('None recognizable label')\n",
        "\n",
        "\n",
        "  print('Loaded total',i,'images.')\n",
        "\n",
        "  # Data conversion and splitting\n",
        "  data = np.array(data, dtype=\"float32\")\n",
        "  labels = np.array(labels)\n",
        "  if 'g' == label:\n",
        "    labels = LabelBinarizer().fit_transform(labels)\n",
        "    labels = to_categorical(labels)\n",
        "  elif 'e' == label:\n",
        "    labels = LabelBinarizer().fit_transform(labels)\n",
        "  else:\n",
        "    raise Exception('None recognizable label')\n",
        "\n",
        "  (trainX, testX, trainY, testY) = train_test_split(data, labels,\n",
        "    test_size=0.20, stratify=labels, random_state=42)\n",
        "  \n",
        "  aug = ImageDataGenerator(\n",
        "    rotation_range=20,\n",
        "    zoom_range=0.15,\n",
        "    width_shift_range=0.2,\n",
        "    height_shift_range=0.2,\n",
        "    shear_range=0.15,\n",
        "    horizontal_flip=True,\n",
        "    fill_mode=\"nearest\")\n",
        "  print(\"[INFO] training Model...\")\n",
        "  \n",
        "  history = model.fit(\n",
        "      aug.flow(trainX, trainY, batch_size=20),\n",
        "      validation_data=(testX, testY),\n",
        "      epochs=20, callbacks=[EarlyStopping(monitor='val_loss', patience=5, verbose=1)])\n",
        "  \n",
        "  # Plot the accuracy and los improvement in graph to show how well model is getting trained on.\n",
        "  plt.plot(history.history['loss'], label='Training Loss')\n",
        "  plt.plot(history.history['val_loss'], label='Validation Loss')\n",
        "  plt.plot(history.history['acc'], label='Training Accuracy')\n",
        "  plt.plot(history.history['val_acc'], label='Validation Accuracy')\n",
        "  plt.ylabel('Value')\n",
        "  plt.xlabel('No. epoch')\n",
        "  plt.legend(loc=\"upper right\")\n",
        "  plt.show()\n",
        "  return model"
      ],
      "execution_count": null,
      "outputs": []
    },
    {
      "cell_type": "markdown",
      "metadata": {
        "id": "3ttRdnrocDc6"
      },
      "source": [
        "# Base Model for Ethnicity and Gender"
      ]
    },
    {
      "cell_type": "code",
      "metadata": {
        "id": "-57pNa20hDfb",
        "colab": {
          "base_uri": "https://localhost:8080/"
        },
        "outputId": "9288fb68-42c0-4eda-bfb8-86cf22415413"
      },
      "source": [
        "baseModel = MobileNetV2(weights=\"imagenet\", include_top=False,\n",
        "    input_tensor=Input(shape=(198, 198, 3)))\n",
        "\n",
        "headModel = baseModel.output\n",
        "headModel = AveragePooling2D(pool_size=(7, 7))(headModel)\n",
        "headModel = Flatten(name=\"flatten\")(headModel)\n",
        "headModel = Dense(128, activation=\"relu\")(headModel)\n",
        "headModel = Dropout(0.5)(headModel)\n",
        "\n",
        "# for layer in baseModel.layers:\n",
        "#     layer.trainable = False"
      ],
      "execution_count": null,
      "outputs": [
        {
          "output_type": "stream",
          "text": [
            "WARNING:tensorflow:`input_shape` is undefined or non-square, or `rows` is not in [96, 128, 160, 192, 224]. Weights for input shape (224, 224) will be loaded as the default.\n"
          ],
          "name": "stdout"
        }
      ]
    },
    {
      "cell_type": "code",
      "metadata": {
        "id": "HH7d4telhgRR"
      },
      "source": [
        "INIT_LR = 1e-4\n",
        "EPOCHS = 20\n",
        "\n",
        "# Optimizer\n",
        "opt = Adam(lr=INIT_LR, decay=INIT_LR / EPOCHS)"
      ],
      "execution_count": null,
      "outputs": []
    },
    {
      "cell_type": "markdown",
      "metadata": {
        "id": "gIYvLMMJcla0"
      },
      "source": [
        "# Gender Model Compiling"
      ]
    },
    {
      "cell_type": "markdown",
      "metadata": {
        "id": "IsK6KgWuclbC"
      },
      "source": [
        "## Part 1 and 2 training"
      ]
    },
    {
      "cell_type": "code",
      "metadata": {
        "id": "xNvcsxJfclbE"
      },
      "source": [
        "gender_model = Dense(2, activation=\"softmax\")(headModel)\n",
        "\n",
        "gender_model = Model(inputs=baseModel.input, outputs= gender_model)"
      ],
      "execution_count": null,
      "outputs": []
    },
    {
      "cell_type": "code",
      "metadata": {
        "colab": {
          "base_uri": "https://localhost:8080/"
        },
        "id": "vlhbGcH5clbG",
        "outputId": "bf857588-abdb-4bee-867c-4794a1174466"
      },
      "source": [
        "print(\"[INFO] compiling model...\")\n",
        "loss=\"binary_crossentropy\"\n",
        "gender_model.compile(loss=loss, optimizer=opt,\n",
        "    metrics=[\"acc\"])"
      ],
      "execution_count": null,
      "outputs": [
        {
          "output_type": "stream",
          "text": [
            "[INFO] compiling model...\n"
          ],
          "name": "stdout"
        }
      ]
    },
    {
      "cell_type": "code",
      "metadata": {
        "colab": {
          "base_uri": "https://localhost:8080/",
          "height": 800
        },
        "id": "Z-5zNPmMclbI",
        "outputId": "4ecf6496-22f8-41ba-9613-ce982f3c569a"
      },
      "source": [
        "print(\"[INFO] training Gender Model for part 1 and 2...\")\n",
        "gender_model = data_load_and_model_fitting(gender_model,{'/content/part1/','/content/part2/'},'g')"
      ],
      "execution_count": null,
      "outputs": [
        {
          "output_type": "stream",
          "text": [
            "[INFO] training Gender Model for part 1 and 2...\n",
            "Loading Images...\n",
            "Loaded total 9960 images.\n",
            "[INFO] training Model...\n",
            "Epoch 1/20\n",
            "399/399 [==============================] - 123s 214ms/step - loss: 0.6076 - acc: 0.6730 - val_loss: 0.3984 - val_acc: 0.8017\n",
            "Epoch 2/20\n",
            "399/399 [==============================] - 82s 204ms/step - loss: 0.3999 - acc: 0.8097 - val_loss: 0.3188 - val_acc: 0.8529\n",
            "Epoch 3/20\n",
            "399/399 [==============================] - 82s 204ms/step - loss: 0.3492 - acc: 0.8438 - val_loss: 0.2948 - val_acc: 0.8695\n",
            "Epoch 4/20\n",
            "399/399 [==============================] - 82s 205ms/step - loss: 0.3350 - acc: 0.8458 - val_loss: 0.3006 - val_acc: 0.8624\n",
            "Epoch 5/20\n",
            "399/399 [==============================] - 81s 204ms/step - loss: 0.2901 - acc: 0.8770 - val_loss: 0.2930 - val_acc: 0.8730\n",
            "Epoch 6/20\n",
            "399/399 [==============================] - 81s 203ms/step - loss: 0.2852 - acc: 0.8702 - val_loss: 0.3705 - val_acc: 0.8604\n",
            "Epoch 7/20\n",
            "399/399 [==============================] - 81s 203ms/step - loss: 0.2842 - acc: 0.8747 - val_loss: 0.2755 - val_acc: 0.8825\n",
            "Epoch 8/20\n",
            "399/399 [==============================] - 82s 206ms/step - loss: 0.2667 - acc: 0.8806 - val_loss: 0.2605 - val_acc: 0.8860\n",
            "Epoch 9/20\n",
            "399/399 [==============================] - 82s 206ms/step - loss: 0.2552 - acc: 0.8898 - val_loss: 0.3092 - val_acc: 0.8765\n",
            "Epoch 10/20\n",
            "399/399 [==============================] - 83s 207ms/step - loss: 0.2350 - acc: 0.8936 - val_loss: 0.2992 - val_acc: 0.8700\n",
            "Epoch 11/20\n",
            "399/399 [==============================] - 82s 206ms/step - loss: 0.2253 - acc: 0.9007 - val_loss: 0.3169 - val_acc: 0.8720\n",
            "Epoch 12/20\n",
            "399/399 [==============================] - 83s 208ms/step - loss: 0.2178 - acc: 0.9041 - val_loss: 0.3593 - val_acc: 0.8514\n",
            "Epoch 13/20\n",
            "399/399 [==============================] - 82s 207ms/step - loss: 0.1948 - acc: 0.9157 - val_loss: 0.4566 - val_acc: 0.8549\n",
            "Epoch 00013: early stopping\n"
          ],
          "name": "stdout"
        },
        {
          "output_type": "display_data",
          "data": {
            "image/png": "[encoded data removed]",
            "text/plain": [
              "<Figure size 432x288 with 1 Axes>"
            ]
          },
          "metadata": {
            "tags": [],
            "needs_background": "light"
          }
        }
      ]
    },
    {
      "cell_type": "code",
      "metadata": {
        "id": "W3PmojDyclbJ"
      },
      "source": [
        "gender_model.save(\"gender_Model12.h5\")"
      ],
      "execution_count": null,
      "outputs": []
    },
    {
      "cell_type": "markdown",
      "metadata": {
        "id": "VXxylaYPclbJ"
      },
      "source": [
        "## Part 4 training"
      ]
    },
    {
      "cell_type": "code",
      "metadata": {
        "id": "fQUCtD3GclbK"
      },
      "source": [
        "gender_model = load_model(\"gender_Model12.h5\")"
      ],
      "execution_count": null,
      "outputs": []
    },
    {
      "cell_type": "code",
      "metadata": {
        "colab": {
          "base_uri": "https://localhost:8080/",
          "height": 733
        },
        "id": "MEdtajjvclbK",
        "outputId": "2cf20dc5-8a8d-45b3-f796-a502ca764567"
      },
      "source": [
        "print(\"[INFO] training Gender Model for part 4/3...\")\n",
        "gender_model = data_load_and_model_fitting(gender_model,{'/content/part4/'},'g')"
      ],
      "execution_count": null,
      "outputs": [
        {
          "output_type": "stream",
          "text": [
            "[INFO] training Gender Model for part 4/3...\n",
            "Loading Images...\n",
            "Loaded total 6920 images.\n",
            "[INFO] training Model...\n",
            "Epoch 1/20\n",
            "277/277 [==============================] - 92s 212ms/step - loss: 0.2115 - acc: 0.9180 - val_loss: 0.3153 - val_acc: 0.9184\n",
            "Epoch 2/20\n",
            "277/277 [==============================] - 56s 204ms/step - loss: 0.1460 - acc: 0.9463 - val_loss: 0.2586 - val_acc: 0.9321\n",
            "Epoch 3/20\n",
            "277/277 [==============================] - 56s 203ms/step - loss: 0.1185 - acc: 0.9523 - val_loss: 0.2642 - val_acc: 0.9321\n",
            "Epoch 4/20\n",
            "277/277 [==============================] - 57s 206ms/step - loss: 0.1062 - acc: 0.9648 - val_loss: 0.2038 - val_acc: 0.9465\n",
            "Epoch 5/20\n",
            "277/277 [==============================] - 57s 205ms/step - loss: 0.0956 - acc: 0.9664 - val_loss: 0.2400 - val_acc: 0.9357\n",
            "Epoch 6/20\n",
            "277/277 [==============================] - 57s 206ms/step - loss: 0.0852 - acc: 0.9707 - val_loss: 0.1697 - val_acc: 0.9465\n",
            "Epoch 7/20\n",
            "277/277 [==============================] - 57s 206ms/step - loss: 0.0661 - acc: 0.9765 - val_loss: 0.2343 - val_acc: 0.9451\n",
            "Epoch 8/20\n",
            "277/277 [==============================] - 57s 207ms/step - loss: 0.0768 - acc: 0.9749 - val_loss: 0.2283 - val_acc: 0.9451\n",
            "Epoch 9/20\n",
            "277/277 [==============================] - 57s 207ms/step - loss: 0.0601 - acc: 0.9792 - val_loss: 0.3014 - val_acc: 0.9400\n",
            "Epoch 10/20\n",
            "277/277 [==============================] - 57s 206ms/step - loss: 0.0571 - acc: 0.9794 - val_loss: 0.1980 - val_acc: 0.9574\n",
            "Epoch 11/20\n",
            "277/277 [==============================] - 57s 205ms/step - loss: 0.0522 - acc: 0.9827 - val_loss: 0.2451 - val_acc: 0.9617\n",
            "Epoch 00011: early stopping\n"
          ],
          "name": "stdout"
        },
        {
          "output_type": "display_data",
          "data": {
            "image/png": "[encoded data removed]",
            "text/plain": [
              "<Figure size 432x288 with 1 Axes>"
            ]
          },
          "metadata": {
            "tags": [],
            "needs_background": "light"
          }
        }
      ]
    },
    {
      "cell_type": "code",
      "metadata": {
        "id": "gHZRi2faclbL"
      },
      "source": [
        "gender_model.save(\"gender_Model124.h5\")"
      ],
      "execution_count": null,
      "outputs": []
    },
    {
      "cell_type": "markdown",
      "metadata": {
        "id": "JIOPOlQUclbM"
      },
      "source": [
        "## Part 3 training"
      ]
    },
    {
      "cell_type": "code",
      "metadata": {
        "id": "7nCtLg4iclbM"
      },
      "source": [
        "gender_model = load_model(\"gender_Model124.h5\")"
      ],
      "execution_count": null,
      "outputs": []
    },
    {
      "cell_type": "code",
      "metadata": {
        "colab": {
          "base_uri": "https://localhost:8080/",
          "height": 699
        },
        "id": "PVvw_txFclbM",
        "outputId": "6f81be97-1561-4818-f47b-f838f2d7f615"
      },
      "source": [
        "print(\"[INFO] training Gender Model for part 3...\")\n",
        "gender_model = data_load_and_model_fitting(gender_model,{'/content/part3/'},'g')"
      ],
      "execution_count": null,
      "outputs": [
        {
          "output_type": "stream",
          "text": [
            "[INFO] training Gender Model for part 3...\n",
            "Loading Images...\n",
            "Loaded total 6828 images.\n",
            "[INFO] training Model...\n",
            "Epoch 1/20\n",
            "274/274 [==============================] - 64s 214ms/step - loss: 0.1827 - acc: 0.9427 - val_loss: 0.2250 - val_acc: 0.9327\n",
            "Epoch 2/20\n",
            "274/274 [==============================] - 56s 205ms/step - loss: 0.1467 - acc: 0.9524 - val_loss: 0.1924 - val_acc: 0.9524\n",
            "Epoch 3/20\n",
            "274/274 [==============================] - 56s 205ms/step - loss: 0.1307 - acc: 0.9608 - val_loss: 0.2229 - val_acc: 0.9392\n",
            "Epoch 4/20\n",
            "274/274 [==============================] - 56s 205ms/step - loss: 0.1111 - acc: 0.9678 - val_loss: 0.1576 - val_acc: 0.9553\n",
            "Epoch 5/20\n",
            "274/274 [==============================] - 56s 204ms/step - loss: 0.1078 - acc: 0.9669 - val_loss: 0.1467 - val_acc: 0.9561\n",
            "Epoch 6/20\n",
            "274/274 [==============================] - 56s 205ms/step - loss: 0.0954 - acc: 0.9685 - val_loss: 0.1577 - val_acc: 0.9597\n",
            "Epoch 7/20\n",
            "274/274 [==============================] - 56s 204ms/step - loss: 0.0994 - acc: 0.9672 - val_loss: 0.1915 - val_acc: 0.9414\n",
            "Epoch 8/20\n",
            "274/274 [==============================] - 56s 203ms/step - loss: 0.0801 - acc: 0.9733 - val_loss: 0.1650 - val_acc: 0.9634\n",
            "Epoch 9/20\n",
            "274/274 [==============================] - 56s 203ms/step - loss: 0.0753 - acc: 0.9764 - val_loss: 0.1686 - val_acc: 0.9583\n",
            "Epoch 10/20\n",
            "274/274 [==============================] - 56s 205ms/step - loss: 0.0645 - acc: 0.9767 - val_loss: 0.1705 - val_acc: 0.9575\n",
            "Epoch 00010: early stopping\n"
          ],
          "name": "stdout"
        },
        {
          "output_type": "display_data",
          "data": {
            "image/png": "[encoded data removed]",
            "text/plain": [
              "<Figure size 432x288 with 1 Axes>"
            ]
          },
          "metadata": {
            "tags": [],
            "needs_background": "light"
          }
        }
      ]
    },
    {
      "cell_type": "code",
      "metadata": {
        "id": "eC3lFbYjclbN"
      },
      "source": [
        "gender_model.save(\"gender_Model_final.h5\")"
      ],
      "execution_count": null,
      "outputs": []
    }
  ]
}