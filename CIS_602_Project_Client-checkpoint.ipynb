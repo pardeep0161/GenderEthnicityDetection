{
 "cells": [
  {
   "cell_type": "code",
   "execution_count": 1,
   "metadata": {},
   "outputs": [],
   "source": [
    "from tensorflow.keras.applications.mobilenet_v2 import preprocess_input\n",
    "from tensorflow.keras.preprocessing.image import img_to_array\n",
    "from tensorflow.keras.models import load_model\n",
    "from imutils.video import VideoStream\n",
    "import numpy as np\n",
    "import imutils\n",
    "import time\n",
    "import cv2"
   ]
  },
  {
   "cell_type": "code",
   "execution_count": 2,
   "metadata": {},
   "outputs": [],
   "source": [
    "ethnicity_model = load_model(\"ethnicity_Model_final.h5\")\n",
    "gender_model = load_model(\"gender_Model_final.h5\")"
   ]
  },
  {
   "cell_type": "code",
   "execution_count": 3,
   "metadata": {},
   "outputs": [],
   "source": [
    "ethnicity_labels_dict={0:'White',1:'Black',2:'Asian',3:'Indian',4:'Others'}\n",
    "gender_labels_dict={0:'Male',1:'Female'}\n",
    "\n",
    "webcam = cv2.VideoCapture(0) #Use camera 0\n",
    "\n",
    "# We load the xml file\n",
    "classifier = cv2.CascadeClassifier('haarcascade_frontalface_default.xml')\n",
    "\n",
    "while True:\n",
    "    (rval, im) = webcam.read()\n",
    "    im=cv2.flip(im,1,1) #Flip to act as a mirror\n",
    "\n",
    "    # detect MultiScale / faces \n",
    "    faces = classifier.detectMultiScale(im)\n",
    "\n",
    "    # Draw rectangles around each face\n",
    "    for f in faces:\n",
    "        (x, y, w, h) = [v for v in f]\n",
    "        #Save just the rectangle faces in SubRecFaces\n",
    "        face = im[y:y+h, x:x+w]\n",
    "        \n",
    "        face = cv2.cvtColor(face, cv2.COLOR_BGR2RGB)\n",
    "        face = cv2.resize(face, (198, 198))\n",
    "        face = img_to_array(face)\n",
    "        face = preprocess_input(face)\n",
    "        face = np.expand_dims(face, axis=0)\n",
    "        \n",
    "        \n",
    "        gender_result = gender_model.predict(face)[0]\n",
    "        gender_label = np.argmax(gender_result)\n",
    "        gender_acc = round(gender_result[gender_label]*100,1)\n",
    "        \n",
    "        ethnicity_result = ethnicity_model.predict(face)[0]\n",
    "        ethnicity_label=np.argmax(ethnicity_result)\n",
    "        ethnicity_acc = round(ethnicity_result[ethnicity_label]*100,1)\n",
    " \n",
    "\n",
    "        ethnicity_text = 'Ethnicity: '+ethnicity_labels_dict[ethnicity_label]+'('+ str(ethnicity_acc) +'%)'\n",
    "        gender_text = 'Gender: ' +gender_labels_dict[gender_label]+'('+ str(gender_acc) +'%)'\n",
    "        cv2.rectangle(im,(x,y),(x+w,y+h),(0,0,255),2)\n",
    "        cv2.rectangle(im,(x,y-40),(x+w,y),(0,0,255),-1)\n",
    "        cv2.putText(im, ethnicity_text, (x, y-10),cv2.FONT_HERSHEY_SIMPLEX,0.8,(255,255,255),2)\n",
    "        cv2.putText(im, gender_text, (x, y+20),cv2.FONT_HERSHEY_SIMPLEX,0.8,(255,255,255),2)\n",
    "        \n",
    "    # Show the image\n",
    "    cv2.imshow('LIVE',   im)\n",
    "    key = cv2.waitKey(10)\n",
    "    # if Esc key is press then break out of the loop \n",
    "    if key == 27: #The Esc key\n",
    "        break\n",
    "        \n",
    "# Stop video\n",
    "webcam.release()\n",
    "\n",
    "# Close all started windows\n",
    "cv2.destroyAllWindows()"
   ]
  },
  {
   "cell_type": "code",
   "execution_count": null,
   "metadata": {},
   "outputs": [],
   "source": []
  }
 ],
 "metadata": {
  "accelerator": "GPU",
  "colab": {
   "collapsed_sections": [],
   "name": "CIS 602 Project.ipynb",
   "provenance": []
  },
  "kernelspec": {
   "display_name": "Python 3",
   "language": "python",
   "name": "python3"
  },
  "language_info": {
   "codemirror_mode": {
    "name": "ipython",
    "version": 3
   },
   "file_extension": ".py",
   "mimetype": "text/x-python",
   "name": "python",
   "nbconvert_exporter": "python",
   "pygments_lexer": "ipython3",
   "version": "3.8.6"
  }
 },
 "nbformat": 4,
 "nbformat_minor": 1
}
